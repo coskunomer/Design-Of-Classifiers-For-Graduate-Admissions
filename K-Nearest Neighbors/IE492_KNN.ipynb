{
  "nbformat": 4,
  "nbformat_minor": 0,
  "metadata": {
    "colab": {
      "provenance": []
    },
    "kernelspec": {
      "name": "python3",
      "display_name": "Python 3"
    },
    "language_info": {
      "name": "python"
    }
  },
  "cells": [
    {
      "cell_type": "markdown",
      "source": [
        "# Custom K-NN Implementation"
      ],
      "metadata": {
        "id": "6IJO82VGy8gQ"
      }
    },
    {
      "cell_type": "code",
      "source": [
        "from sklearn.base import BaseEstimator, ClassifierMixin\n",
        "import numpy as np\n",
        "from sklearn.model_selection import train_test_split, cross_val_score, KFold\n",
        "import pandas as pd\n",
        "from sklearn.preprocessing import StandardScaler\n",
        "import matplotlib.pyplot as plt\n",
        "\n",
        "class CustomKNN(BaseEstimator, ClassifierMixin):\n",
        "    def __init__(self, k):\n",
        "        self.k = k\n",
        "\n",
        "    def fit(self, X, y):\n",
        "        self.X_train = X\n",
        "        self.y_train = y\n",
        "        self.classes_ = np.unique(y)\n",
        "        self.n_classes_ = len(self.classes_)\n",
        "\n",
        "    def predict(self, X):\n",
        "        predictions = []\n",
        "        for x in X:\n",
        "            pred, _ = self._predict(x)\n",
        "            predictions.append(pred)\n",
        "        return np.array(predictions)\n",
        "\n",
        "    def predict_proba(self, X):\n",
        "        probabilities = []\n",
        "        for x in X:\n",
        "            _, prob = self._predict(x)\n",
        "            probabilities.append(prob)\n",
        "        return np.array(probabilities)\n",
        "\n",
        "    def _predict(self, x):\n",
        "        distances = [self.euclidean_distance(x, p) for p in self.X_train]\n",
        "        indices = np.argsort(distances)[:self.k]\n",
        "        labels = [self.y_train[i] for i in indices]\n",
        "        counts = np.bincount(labels, minlength=self.n_classes_)\n",
        "        pred = np.argmax(counts)\n",
        "        prob = counts / self.k\n",
        "        return pred, prob\n",
        "\n",
        "    def score(self, y_pred, y_true):\n",
        "        return np.mean(y_pred == y_true)\n",
        "\n",
        "    def euclidean_distance(self, x1, x2):\n",
        "        return np.sqrt(np.sum((x1 - x2) ** 2))\n"
      ],
      "metadata": {
        "id": "LrBOU2b0y_lJ"
      },
      "execution_count": null,
      "outputs": []
    },
    {
      "cell_type": "markdown",
      "source": [
        "# Stage 1\n",
        "\n",
        "**Predict result_1:** Direct Acceptance (0), Direct Rejection (1), Interview (2)"
      ],
      "metadata": {
        "id": "cuAYzF_oyG7o"
      }
    },
    {
      "cell_type": "markdown",
      "source": [
        "# Without features is_boun, is_ie"
      ],
      "metadata": {
        "id": "45x6PP3Ycsuj"
      }
    },
    {
      "cell_type": "code",
      "source": [
        "class CustomKNN(BaseEstimator, ClassifierMixin):\n",
        "    def __init__(self, k):\n",
        "        self.k = k\n",
        "\n",
        "    def fit(self, X, y):\n",
        "        self.X_train = X\n",
        "        self.y_train = y\n",
        "\n",
        "    def predict(self, X):\n",
        "        predictions = [self._predict(x) for x in X]\n",
        "        return np.array(predictions)\n",
        "\n",
        "    def _predict(self, x):\n",
        "        distances = [self.euclidean_distance(x, p) for p in self.X_train]\n",
        "        indices = np.argsort(distances)[:self.k]\n",
        "        labels = [self.y_train[i] for i in indices]\n",
        "        return max(set(labels), key = labels.count)\n",
        "\n",
        "    def score(self, X, y):\n",
        "        pred = self.predict(X)\n",
        "        return sum(pred == y) / len(y)\n",
        "\n",
        "    def euclidean_distance(self, x1, x2):\n",
        "        return np.sqrt(np.sum((x1 - x2) ** 2))\n",
        "\n",
        "# Step 1: Read the data from the Excel file\n",
        "df = pd.read_excel(\"final_data492.xlsx\", decimal=',')\n",
        "\n",
        "# Step 2: Drop unnecessary columns and separate features and target variable\n",
        "df_dropped = df.drop(columns=['interview_score', 'result_2', 'year', 'is_fall'])\n",
        "X = df_dropped.drop(columns=['result_1'])\n",
        "y = df_dropped['result_1'].values\n",
        "\n",
        "X.drop(columns=['is_boun', 'is_ie'], inplace=True)\n",
        "\n",
        "# Step 3: Standardize the feature values\n",
        "scaler = StandardScaler()\n",
        "X_scaled = scaler.fit_transform(X)\n",
        "\n",
        "# Step 4: Train the model with different values of k and evaluate performance using cross-validation\n",
        "for i in range(2, 10):\n",
        "    knn = CustomKNN(i)\n",
        "    cv_scores = cross_val_score(knn, X_scaled, y, cv=5)  # 5-fold cross-validation\n",
        "    print(f\"K = {i}, Mean CV Score: {cv_scores.mean()}, CV Scores: {cv_scores}\")\n"
      ],
      "metadata": {
        "colab": {
          "base_uri": "https://localhost:8080/"
        },
        "id": "O9pjPn2IckWa",
        "outputId": "80e7ee9a-da95-4228-ca05-b235e6856d86"
      },
      "execution_count": null,
      "outputs": [
        {
          "output_type": "stream",
          "name": "stdout",
          "text": [
            "K = 2, Mean CV Score: 0.8269970022923646, CV Scores: [0.78504673 0.90654206 0.80188679 0.85849057 0.78301887]\n",
            "K = 3, Mean CV Score: 0.8514371363075295, CV Scores: [0.82242991 0.91588785 0.8490566  0.85849057 0.81132075]\n",
            "K = 4, Mean CV Score: 0.851454769881855, CV Scores: [0.81308411 0.91588785 0.83962264 0.86792453 0.82075472]\n",
            "K = 5, Mean CV Score: 0.8346147064009874, CV Scores: [0.80373832 0.85046729 0.85849057 0.85849057 0.80188679]\n",
            "K = 6, Mean CV Score: 0.8458825603949922, CV Scores: [0.79439252 0.88785047 0.86792453 0.86792453 0.81132075]\n",
            "K = 7, Mean CV Score: 0.8364838652794921, CV Scores: [0.80373832 0.85981308 0.8490566  0.86792453 0.80188679]\n",
            "K = 8, Mean CV Score: 0.8590195732675013, CV Scores: [0.82242991 0.89719626 0.88679245 0.87735849 0.81132075]\n",
            "K = 9, Mean CV Score: 0.8421266090636573, CV Scores: [0.81308411 0.85981308 0.86792453 0.86792453 0.80188679]\n"
          ]
        }
      ]
    },
    {
      "cell_type": "markdown",
      "source": [
        "# With feature is boun and is ie student"
      ],
      "metadata": {
        "id": "bZhkxnPWay7g"
      }
    },
    {
      "cell_type": "code",
      "source": [
        "class CustomKNN(BaseEstimator, ClassifierMixin):\n",
        "    def __init__(self, k):\n",
        "        self.k = k\n",
        "\n",
        "    def fit(self, X, y):\n",
        "        self.X_train = X\n",
        "        self.y_train = y\n",
        "\n",
        "    def predict(self, X):\n",
        "        predictions = [self._predict(x) for x in X]\n",
        "        return np.array(predictions)\n",
        "\n",
        "    def _predict(self, x):\n",
        "        distances = [self.euclidean_distance(x, p) for p in self.X_train]\n",
        "        indices = np.argsort(distances)[:self.k]\n",
        "        labels = [self.y_train[i] for i in indices]\n",
        "        return max(set(labels), key = labels.count)\n",
        "\n",
        "    def score(self, X, y):\n",
        "        pred = self.predict(X)\n",
        "        return sum(pred == y) / len(y)\n",
        "\n",
        "    def euclidean_distance(self, x1, x2):\n",
        "        return np.sqrt(np.sum((x1 - x2) ** 2))\n",
        "\n",
        "# Step 1: Read the data from the Excel file\n",
        "df = pd.read_excel(\"final_data492.xlsx\", decimal=',')\n",
        "\n",
        "# Step 2: Drop unnecessary columns and separate features and target variable\n",
        "df_dropped = df.drop(columns=['interview_score', 'result_2', 'year', 'is_fall'])\n",
        "X = df_dropped.drop(columns=['result_1'])\n",
        "y = df_dropped['result_1'].values\n",
        "\n",
        "# Step 3: Standardize the feature values\n",
        "scaler = StandardScaler()\n",
        "X_scaled = scaler.fit_transform(X)\n",
        "\n",
        "# Step 4: Train the model with different values of k and evaluate performance using cross-validation\n",
        "for i in range(2, 10):\n",
        "    knn = CustomKNN(i)\n",
        "    cv_scores = cross_val_score(knn, X_scaled, y, cv=5)  # 5-fold cross-validation\n",
        "    print(f\"K = {i}, Mean CV Score: {cv_scores.mean()}, CV Scores: {cv_scores}\")\n"
      ],
      "metadata": {
        "colab": {
          "base_uri": "https://localhost:8080/"
        },
        "id": "25ollwHqCyju",
        "outputId": "88f479ee-651e-454c-9875-68ac2d7d98a9"
      },
      "execution_count": null,
      "outputs": [
        {
          "output_type": "stream",
          "name": "stdout",
          "text": [
            "K = 2, Mean CV Score: 0.7969141244930348, CV Scores: [0.75700935 0.87850467 0.76415094 0.81132075 0.77358491]\n",
            "K = 3, Mean CV Score: 0.8420560747663552, CV Scores: [0.85046729 0.85981308 0.8490566  0.8490566  0.80188679]\n",
            "K = 4, Mean CV Score: 0.8420737083406806, CV Scores: [0.82242991 0.87850467 0.87735849 0.83962264 0.79245283]\n",
            "K = 5, Mean CV Score: 0.8326750132251807, CV Scores: [0.81308411 0.86915888 0.86792453 0.83018868 0.78301887]\n",
            "K = 6, Mean CV Score: 0.836378063833539, CV Scores: [0.8317757  0.88785047 0.85849057 0.81132075 0.79245283]\n",
            "K = 7, Mean CV Score: 0.8383353905836713, CV Scores: [0.8317757  0.85046729 0.89622642 0.82075472 0.79245283]\n",
            "K = 8, Mean CV Score: 0.8364662317051668, CV Scores: [0.80373832 0.86915888 0.89622642 0.82075472 0.79245283]\n",
            "K = 9, Mean CV Score: 0.8158525833186386, CV Scores: [0.78504673 0.81308411 0.87735849 0.83018868 0.77358491]\n"
          ]
        }
      ]
    },
    {
      "cell_type": "markdown",
      "source": [
        "# K Fold Cross Validation, with feature is boun ie student"
      ],
      "metadata": {
        "id": "aLEENHSmanW5"
      }
    },
    {
      "cell_type": "code",
      "source": [
        "class CustomKNN(BaseEstimator, ClassifierMixin):\n",
        "    def __init__(self, k):\n",
        "        self.k = k\n",
        "\n",
        "    def fit(self, X, y):\n",
        "        self.X_train = X\n",
        "        self.y_train = y\n",
        "\n",
        "    def predict(self, X):\n",
        "        predictions = [self._predict(x) for x in X]\n",
        "        return np.array(predictions)\n",
        "\n",
        "    def _predict(self, x):\n",
        "        distances = [self.euclidean_distance(x, p) for p in self.X_train]\n",
        "        indices = np.argsort(distances)[:self.k]\n",
        "        labels = [self.y_train[i] for i in indices]\n",
        "        return max(set(labels), key = labels.count)\n",
        "\n",
        "    def score(self, X, y):\n",
        "        pred = self.predict(X)\n",
        "        return sum(pred == y) / len(y)\n",
        "\n",
        "    def euclidean_distance(self, x1, x2):\n",
        "        return np.sqrt(np.sum((x1 - x2) ** 2))\n",
        "\n",
        "# Step 1: Read the data from the Excel file\n",
        "df = pd.read_excel(\"final_data492.xlsx\", decimal=',')\n",
        "\n",
        "# Step 2: Drop unnecessary columns and separate features and target variable\n",
        "df_dropped = df.drop(columns=['interview_score', 'result_2', 'year', 'is_fall'])\n",
        "X = df_dropped.drop(columns=['result_1'])\n",
        "y = df_dropped['result_1'].values\n",
        "\n",
        "# Merge 'is_boun' and 'is_ie' into one binary feature 'is_boun_ie'\n",
        "X['is_boun_ie'] = X['is_boun'] & X['is_ie']\n",
        "X.drop(columns=['is_boun', 'is_ie'], inplace=True)\n",
        "\n",
        "# Step 3: Standardize the feature values\n",
        "scaler = StandardScaler()\n",
        "X_scaled = scaler.fit_transform(X)\n",
        "\n",
        "# Step 4: Train the model with different values of k and evaluate performance using cross-validation\n",
        "for i in range(2, 10):\n",
        "    knn = CustomKNN(i)\n",
        "    cv_scores = cross_val_score(knn, X_scaled, y, cv=5)  # 5-fold cross-validation\n",
        "    print(f\"K = {i}, Mean CV Score: {cv_scores.mean()}, CV Scores: {cv_scores}\")\n"
      ],
      "metadata": {
        "colab": {
          "base_uri": "https://localhost:8080/"
        },
        "id": "gB18OI4IaU2g",
        "outputId": "bac28b4f-b25c-453b-f853-ed9819625ab7"
      },
      "execution_count": null,
      "outputs": [
        {
          "output_type": "stream",
          "name": "stdout",
          "text": [
            "K = 2, Mean CV Score: 0.840134015164874, CV Scores: [0.81308411 0.91588785 0.81132075 0.83962264 0.82075472]\n",
            "K = 3, Mean CV Score: 0.855245988361841, CV Scores: [0.8411215  0.87850467 0.85849057 0.85849057 0.83962264]\n",
            "K = 4, Mean CV Score: 0.851454769881855, CV Scores: [0.8411215  0.88785047 0.83018868 0.86792453 0.83018868]\n",
            "K = 5, Mean CV Score: 0.8421089754893316, CV Scores: [0.82242991 0.85981308 0.8490566  0.85849057 0.82075472]\n",
            "K = 6, Mean CV Score: 0.8496208781520014, CV Scores: [0.82242991 0.87850467 0.87735849 0.8490566  0.82075472]\n",
            "K = 7, Mean CV Score: 0.8477164521248458, CV Scores: [0.8411215  0.86915888 0.85849057 0.8490566  0.82075472]\n",
            "K = 8, Mean CV Score: 0.8627226238758597, CV Scores: [0.85046729 0.90654206 0.86792453 0.85849057 0.83018868]\n",
            "K = 9, Mean CV Score: 0.8458825603949922, CV Scores: [0.8317757  0.85046729 0.88679245 0.8490566  0.81132075]\n"
          ]
        }
      ]
    },
    {
      "cell_type": "code",
      "source": [
        "# Step 1: Read the data, specifying the decimal separator\n",
        "df = pd.read_excel(\"final_data492.xlsx\", decimal=',')\n",
        "\n",
        "# Step 2: Separate features and target variable\n",
        "X = df.drop(columns=['result_1'])\n",
        "y = df['result_1'].values\n",
        "\n",
        "# Step 3: Split the data into training and testing sets\n",
        "X_train, X_test, y_train, y_test = train_test_split(X, y, test_size=0.2, random_state=42)\n",
        "\n",
        "# Step 4: Store the dropped columns and drop them from the training and testing sets\n",
        "dropped_columns_train = X_train[['year', 'result_2', 'is_fall', 'interview_score']]\n",
        "dropped_columns_test = X_test[['year', 'result_2', 'is_fall', 'interview_score']]\n",
        "\n",
        "X_train.drop(columns=['year', 'result_2', 'is_fall', 'interview_score'], inplace=True)\n",
        "X_test.drop(columns=['year', 'result_2', 'is_fall', 'interview_score'], inplace=True)\n",
        "\n",
        "# Step 5: Scale the features using StandardScaler\n",
        "scaler = StandardScaler()\n",
        "X_train_scaled = scaler.fit_transform(X_train)\n",
        "X_test_scaled = scaler.transform(X_test)\n",
        "\n",
        "# Step 6: Fit the model, make predictions, and calculate the accuracy\n",
        "knn = CustomKNN(3)\n",
        "knn.fit(X_train_scaled, y_train)\n",
        "pred = knn.predict(X_test_scaled)\n",
        "accuracy = knn.score(pred, y_test)\n",
        "print(\"Accuracy:\", accuracy)\n",
        "\n",
        "# Step 7: Merge predictions, actual labels, and features with dropped columns\n",
        "results_df = pd.DataFrame({'Predicted_Result_1': pred, 'Actual_Result_1': y_test})\n",
        "X_test_df = pd.DataFrame(X_test, columns=X_test.columns)  # Convert X_test array to DataFrame\n",
        "results_df = pd.concat([results_df, X_test_df.reset_index(drop=True), dropped_columns_test.reset_index(drop=True)], axis=1)\n",
        "\n",
        "# Step 8: Concatenate with the original DataFrame\n",
        "final_df = pd.concat([df, results_df], axis=1)\n",
        "\n",
        "# Step 9: Save to Excel\n",
        "final_df.to_excel('final_data_with_predictions.xlsx', index=False)\n"
      ],
      "metadata": {
        "colab": {
          "base_uri": "https://localhost:8080/"
        },
        "id": "HluboK2V1DnF",
        "outputId": "f8c09913-d82a-4cff-83e3-802620c28c16"
      },
      "execution_count": null,
      "outputs": [
        {
          "output_type": "stream",
          "name": "stdout",
          "text": [
            "Accuracy: 0.8785046728971962\n"
          ]
        }
      ]
    },
    {
      "cell_type": "code",
      "source": [
        "# Initialize an empty list to store the accuracies\n",
        "accuracies = []\n",
        "\n",
        "# Iterate over each K value\n",
        "for k in k_values:\n",
        "    # Initialize and train the classifier\n",
        "    knn = CustomKNN(k)\n",
        "    knn.fit(X_train_scaled, y_train)\n",
        "\n",
        "    # Make predictions on the test set\n",
        "    y_pred = knn.predict(X_test_scaled)\n",
        "\n",
        "    # Calculate accuracy\n",
        "    accuracy = knn.score(y_pred, y_test)\n",
        "\n",
        "    # Append accuracy to the list\n",
        "    accuracies.append(accuracy)\n",
        "\n",
        "# Plot the results\n",
        "plt.plot(k_values, accuracies, marker='o')\n",
        "plt.title('Accuracy vs. K Value')\n",
        "plt.xlabel('K Value')\n",
        "plt.ylabel('Accuracy')\n",
        "plt.xticks(k_values)\n",
        "plt.grid(True)\n",
        "plt.show()"
      ],
      "metadata": {
        "colab": {
          "base_uri": "https://localhost:8080/",
          "height": 472
        },
        "id": "U9_7oe-5RuCk",
        "outputId": "b6aedd33-dadb-4b6b-8dbb-29c4063b41d7"
      },
      "execution_count": null,
      "outputs": [
        {
          "output_type": "display_data",
          "data": {
            "text/plain": [
              "<Figure size 640x480 with 1 Axes>"
            ],
            "image/png": "[encoded data removed]"
          },
          "metadata": {}
        }
      ]
    },
    {
      "cell_type": "code",
      "source": [
        "from sklearn.metrics import classification_report\n",
        "print(classification_report(y_test, pred))"
      ],
      "metadata": {
        "colab": {
          "base_uri": "https://localhost:8080/"
        },
        "id": "oi_WRhj5Le-J",
        "outputId": "f94d1956-8fa0-4a03-dc75-740cda68d7a1"
      },
      "execution_count": null,
      "outputs": [
        {
          "output_type": "stream",
          "name": "stdout",
          "text": [
            "              precision    recall  f1-score   support\n",
            "\n",
            "           0       0.97      0.95      0.96        39\n",
            "           1       0.64      0.54      0.58        13\n",
            "           2       0.86      0.91      0.88        55\n",
            "\n",
            "    accuracy                           0.88       107\n",
            "   macro avg       0.82      0.80      0.81       107\n",
            "weighted avg       0.88      0.88      0.88       107\n",
            "\n"
          ]
        }
      ]
    },
    {
      "cell_type": "code",
      "source": [
        "# Step 1: Read the data, specifying the decimal separator\n",
        "df = pd.read_excel(\"final_data492.xlsx\", decimal=',')\n",
        "\n",
        "# Step 2: Separate features and target variable\n",
        "X = df.drop(columns=['result_1'])\n",
        "y = df['result_1']\n",
        "\n",
        "# Step 3: Store the dropped columns and drop 'result_2', 'is_fall', and 'interview_score' from the DataFrame\n",
        "dropped_columns = df[['result_2', 'is_fall', 'interview_score']]\n",
        "X.drop(columns=['result_2', 'is_fall', 'interview_score'], inplace=True)\n",
        "\n",
        "# Step 4: Standardize 'uni_score' based on the year\n",
        "scaler = StandardScaler()\n",
        "X_scaled = X.copy()\n",
        "\n",
        "for year in X['year'].unique():\n",
        "    year_indices = X['year'] == year\n",
        "    uni_score_year = X.loc[year_indices, 'uni_score']\n",
        "    X_scaled.loc[year_indices, 'uni_score'] = scaler.fit_transform(uni_score_year.values.reshape(-1, 1)).flatten()\n",
        "X_scaled.drop(columns=[\"year\"], inplace=True)\n",
        "X_scaled = X_scaled.values\n",
        "y = y.values\n",
        "# Step 5: Split the data into training and testing sets\n",
        "X_train, X_test, y_train, y_test = train_test_split(X_scaled, y, test_size=0.2, random_state=1)\n",
        "# Step 6: Train the model\n",
        "knn = CustomKNN(3)\n",
        "knn.fit(X_train, y_train)\n",
        "pred = knn.predict(X_test)\n",
        "accuracy = knn.score(pred, y_test)\n",
        "print(\"Accuracy:\", accuracy)"
      ],
      "metadata": {
        "id": "iQnML7GNyysJ",
        "colab": {
          "base_uri": "https://localhost:8080/"
        },
        "outputId": "ab8ab95a-768a-462c-c270-0aff4fc5f400"
      },
      "execution_count": null,
      "outputs": [
        {
          "output_type": "stream",
          "name": "stdout",
          "text": [
            "Accuracy: 0.8878504672897196\n"
          ]
        }
      ]
    },
    {
      "cell_type": "markdown",
      "source": [
        "# 2nd Stage"
      ],
      "metadata": {
        "id": "ovgy9_rYK_Qy"
      }
    },
    {
      "cell_type": "code",
      "source": [
        "class CustomKNN(BaseEstimator, ClassifierMixin):\n",
        "    def __init__(self, k):\n",
        "        self.k = k\n",
        "\n",
        "    def fit(self, X, y):\n",
        "        self.X_train = X\n",
        "        self.y_train = y\n",
        "\n",
        "    def predict(self, X):\n",
        "        predictions = [self._predict(x) for x in X]\n",
        "        return np.array(predictions)\n",
        "\n",
        "    def _predict(self, x):\n",
        "        distances = [self.euclidean_distance(x, p) for p in self.X_train]\n",
        "        indices = np.argsort(distances)[:self.k]\n",
        "        labels = [self.y_train[i] for i in indices]\n",
        "        return max(set(labels), key = labels.count)\n",
        "\n",
        "    def score(self, X, y):\n",
        "        pred = self.predict(X)\n",
        "        return sum(pred == y) / len(y)\n",
        "\n",
        "    def euclidean_distance(self, x1, x2):\n",
        "        return np.sqrt(np.sum((x1 - x2) ** 2))\n",
        "\n",
        "df = pd.read_excel(\"final_data492.xlsx\", decimal=',')\n",
        "\n",
        "df_interview = df[df[\"result_1\"] == 2].copy()\n",
        "df_interview.dropna(inplace=True)\n",
        "\n",
        "df_interview.drop(columns=['result_1', 'year', 'is_fall'], inplace=True)\n",
        "\n",
        "X = df_interview.drop(columns=['result_2']).values\n",
        "y = df_interview['result_2'].values\n",
        "\n",
        "scaler = StandardScaler()\n",
        "X_scaled = scaler.fit_transform(X)\n",
        "\n",
        "X_train, X_test, y_train, y_test = train_test_split(X_scaled, y, test_size=0.2, random_state=42)\n",
        "\n",
        "kf = KFold(n_splits=5, shuffle=True, random_state=42)\n",
        "\n",
        "knn = CustomKNN(3)\n",
        "cv_scores = cross_val_score(knn, X_scaled, y, cv=kf)\n",
        "\n",
        "print(\"Cross-Validation Scores:\", cv_scores)\n",
        "print(\"Mean CV Score:\", cv_scores.mean())"
      ],
      "metadata": {
        "colab": {
          "base_uri": "https://localhost:8080/"
        },
        "id": "g6JUkXuKJtjN",
        "outputId": "487ba982-2762-445a-f714-f1c7d91e5805"
      },
      "execution_count": null,
      "outputs": [
        {
          "output_type": "stream",
          "name": "stdout",
          "text": [
            "Cross-Validation Scores: [0.83333333 0.75       0.79166667 0.77083333 0.875     ]\n",
            "Mean CV Score: 0.8041666666666668\n"
          ]
        }
      ]
    },
    {
      "cell_type": "code",
      "source": [
        "class CustomKNN(BaseEstimator, ClassifierMixin):\n",
        "    def __init__(self, k):\n",
        "        self.k = k\n",
        "\n",
        "    def fit(self, X, y):\n",
        "        self.X_train = X\n",
        "        self.y_train = y\n",
        "\n",
        "    def predict(self, X):\n",
        "        predictions = [self._predict(x) for x in X]\n",
        "        return np.array(predictions)\n",
        "\n",
        "    def _predict(self, x):\n",
        "        distances = [self.euclidean_distance(x, p) for p in self.X_train]\n",
        "        indices = np.argsort(distances)[:self.k]\n",
        "        labels = [self.y_train[i] for i in indices]\n",
        "        return max(set(labels), key = labels.count)\n",
        "\n",
        "    def score(self, X, y):\n",
        "        pred = self.predict(X)\n",
        "        return sum(pred == y) / len(y)\n",
        "\n",
        "    def euclidean_distance(self, x1, x2):\n",
        "        return np.sqrt(np.sum((x1 - x2) ** 2))\n",
        "\n",
        "df = pd.read_excel(\"final_data492.xlsx\", decimal=',')\n",
        "\n",
        "df_interview = df[df[\"result_1\"] == 2].copy()\n",
        "df_interview.dropna(inplace=True)\n",
        "\n",
        "df_interview.drop(columns=['result_1', 'year', 'is_fall', 'is_boun', 'is_ie'], inplace=True)\n",
        "\n",
        "X = df_interview.drop(columns=['result_2']).values\n",
        "y = df_interview['result_2'].values\n",
        "\n",
        "scaler = StandardScaler()\n",
        "X_scaled = scaler.fit_transform(X)\n",
        "\n",
        "X_train, X_test, y_train, y_test = train_test_split(X_scaled, y, test_size=0.2, random_state=1)\n",
        "\n",
        "\n",
        "knn = CustomKNN(3)\n",
        "cv_scores = cross_val_score(knn, X_train, y_train, cv=5)\n",
        "\n",
        "print(\"Cross-Validation Scores:\", cv_scores)\n",
        "print(\"Mean CV Score:\", cv_scores.mean())"
      ],
      "metadata": {
        "colab": {
          "base_uri": "https://localhost:8080/"
        },
        "id": "IM-GhNcRYWH5",
        "outputId": "b618b093-c974-4621-fff5-668f8d122068"
      },
      "execution_count": null,
      "outputs": [
        {
          "output_type": "stream",
          "name": "stdout",
          "text": [
            "Cross-Validation Scores: [0.84615385 0.8974359  0.89473684 0.76315789 0.89473684]\n",
            "Mean CV Score: 0.8592442645074223\n"
          ]
        }
      ]
    },
    {
      "cell_type": "code",
      "source": [
        "# Define a range of K values to test\n",
        "k_values = range(1, 21)  # Adjust the range as needed\n",
        "\n",
        "# Initialize an empty list to store the mean cross-validation accuracies\n",
        "cv_accuracies = []\n",
        "\n",
        "# Iterate over each K value\n",
        "for k in k_values:\n",
        "    # Initialize the classifier\n",
        "    knn = CustomKNN(k)\n",
        "\n",
        "    # Perform cross-validation\n",
        "    cv_scores = cross_val_score(knn, X_train, y_train, cv=5)  # 5-fold cross-validation\n",
        "    print(cv_scores)\n",
        "    # Calculate the mean accuracy across folds\n",
        "    mean_cv_accuracy = np.mean(cv_scores)\n",
        "\n",
        "    # Append mean accuracy to the list\n",
        "    cv_accuracies.append(mean_cv_accuracy)\n",
        "\n",
        "# Plot the results\n",
        "plt.plot(k_values, cv_accuracies, marker='o')\n",
        "plt.title('Cross-Validation Accuracy vs. K Value')\n",
        "plt.xlabel('K Value')\n",
        "plt.ylabel('Mean Cross-Validation Accuracy')\n",
        "plt.xticks(k_values)\n",
        "plt.grid(True)\n",
        "plt.show()"
      ],
      "metadata": {
        "colab": {
          "base_uri": "https://localhost:8080/",
          "height": 819
        },
        "id": "5j9FaltNReGg",
        "outputId": "741c94c2-3b50-4c8a-91b2-eba06f523647"
      },
      "execution_count": null,
      "outputs": [
        {
          "output_type": "stream",
          "name": "stdout",
          "text": [
            "[0.82051282 0.82051282 0.81578947 0.71052632 0.89473684]\n",
            "[0.82051282 0.76923077 0.94736842 0.73684211 0.84210526]\n",
            "[0.84615385 0.8974359  0.89473684 0.76315789 0.89473684]\n",
            "[0.79487179 0.76923077 0.94736842 0.76315789 0.81578947]\n",
            "[0.84615385 0.79487179 0.89473684 0.76315789 0.84210526]\n",
            "[0.79487179 0.82051282 0.92105263 0.78947368 0.81578947]\n",
            "[0.76923077 0.79487179 0.86842105 0.78947368 0.84210526]\n",
            "[0.79487179 0.82051282 0.86842105 0.73684211 0.81578947]\n",
            "[0.82051282 0.87179487 0.86842105 0.81578947 0.86842105]\n",
            "[0.82051282 0.87179487 0.89473684 0.81578947 0.84210526]\n",
            "[0.79487179 0.87179487 0.89473684 0.81578947 0.86842105]\n",
            "[0.79487179 0.87179487 0.89473684 0.81578947 0.86842105]\n",
            "[0.76923077 0.84615385 0.84210526 0.81578947 0.89473684]\n",
            "[0.79487179 0.84615385 0.86842105 0.81578947 0.86842105]\n",
            "[0.79487179 0.87179487 0.84210526 0.84210526 0.86842105]\n",
            "[0.76923077 0.87179487 0.84210526 0.78947368 0.89473684]\n",
            "[0.82051282 0.82051282 0.86842105 0.81578947 0.86842105]\n",
            "[0.82051282 0.84615385 0.84210526 0.78947368 0.86842105]\n",
            "[0.76923077 0.84615385 0.84210526 0.76315789 0.84210526]\n",
            "[0.82051282 0.84615385 0.81578947 0.76315789 0.84210526]\n"
          ]
        },
        {
          "output_type": "display_data",
          "data": {
            "text/plain": [
              "<Figure size 640x480 with 1 Axes>"
            ],
            "image/png": "[encoded data removed]"
          },
          "metadata": {}
        }
      ]
    },
    {
      "cell_type": "code",
      "source": [
        "# Train your classifier\n",
        "knn = CustomKNN(3)\n",
        "knn.fit(X_train, y_train)\n",
        "\n",
        "# Make predictions on the test set\n",
        "y_pred = knn.predict(X_test)\n",
        "\n",
        "# Generate classification report\n",
        "report = classification_report(y_test, y_pred)\n",
        "\n",
        "# Print the report\n",
        "print(\"Classification Report:\")\n",
        "print(report)"
      ],
      "metadata": {
        "colab": {
          "base_uri": "https://localhost:8080/"
        },
        "id": "xtzs0qebYYn5",
        "outputId": "4a565b0d-d6cd-4c27-f5ac-78fb06b05e64"
      },
      "execution_count": null,
      "outputs": [
        {
          "output_type": "stream",
          "name": "stdout",
          "text": [
            "Classification Report:\n",
            "              precision    recall  f1-score   support\n",
            "\n",
            "         0.0       0.88      0.96      0.92        24\n",
            "         1.0       0.95      0.88      0.91        24\n",
            "\n",
            "    accuracy                           0.92        48\n",
            "   macro avg       0.92      0.92      0.92        48\n",
            "weighted avg       0.92      0.92      0.92        48\n",
            "\n"
          ]
        }
      ]
    }
  ]
}